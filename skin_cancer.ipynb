{
 "cells": [
  {
   "cell_type": "code",
   "execution_count": 1,
   "metadata": {},
   "outputs": [],
   "source": [
    "import numpy as np\n",
    "import pandas as pd\n",
    "import tensorflow as tf\n",
    "from tensorflow import keras\n",
    "from keras.models import Sequential, Model\n",
    "from keras import layers\n",
    "from keras.layers import Dense, Flatten, MaxPooling2D, Conv2D, Resizing, BatchNormalization, Lambda, Activation \\\n",
    "    ,Resizing, Rescaling, Dropout, InputLayer, GlobalAveragePooling2D\n",
    "from keras.preprocessing.image import ImageDataGenerator\n",
    "from keras.utils import image_dataset_from_directory\n",
    "import os\n",
    "import glob\n",
    "import random\n",
    "import shutil"
   ]
  },
  {
   "cell_type": "code",
   "execution_count": 2,
   "metadata": {},
   "outputs": [
    {
     "data": {
      "text/plain": [
       "[PhysicalDevice(name='/physical_device:GPU:0', device_type='GPU')]"
      ]
     },
     "execution_count": 2,
     "metadata": {},
     "output_type": "execute_result"
    }
   ],
   "source": [
    "tf.config.list_physical_devices('GPU')"
   ]
  },
  {
   "cell_type": "code",
   "execution_count": 3,
   "metadata": {},
   "outputs": [
    {
     "name": "stdout",
     "output_type": "stream",
     "text": [
      "Num GPUs Available:  1\n"
     ]
    }
   ],
   "source": [
    "print(\"Num GPUs Available: \", len(tf.config.list_physical_devices('GPU')))"
   ]
  },
  {
   "cell_type": "code",
   "execution_count": 4,
   "metadata": {},
   "outputs": [],
   "source": [
    "IMAGES_DIR = os.path.join(\".\", \"images_labeled\")"
   ]
  },
  {
   "cell_type": "code",
   "execution_count": 5,
   "metadata": {},
   "outputs": [
    {
     "data": {
      "text/plain": [
       "MEL      1113.0\n",
       "NV       6705.0\n",
       "BCC       514.0\n",
       "AKIEC     327.0\n",
       "BKL      1099.0\n",
       "DF        115.0\n",
       "VASC      142.0\n",
       "dtype: float64"
      ]
     },
     "execution_count": 5,
     "metadata": {},
     "output_type": "execute_result"
    }
   ],
   "source": [
    "ground_truth = pd.read_csv(\"./GroundTruth.csv\")\n",
    "ground_truth.iloc[:, 1:].sum()"
   ]
  },
  {
   "cell_type": "code",
   "execution_count": 6,
   "metadata": {},
   "outputs": [],
   "source": [
    "os.chdir(IMAGES_DIR)\n",
    "if os.path.isdir(\"train\") is False:\n",
    "    os.mkdir(\"train\")\n",
    "    os.mkdir(\"valid\")\n",
    "    os.mkdir(\"test\")\n",
    "    \n",
    "    for col in ground_truth.iloc[:, 1:].columns:\n",
    "        print(col)\n",
    "        os.chdir(col)\n",
    "        test_size = int(np.ceil(ground_truth.iloc[:, 1:].sum()[col] * .1))\n",
    "        train_val_size = int(np.floor(ground_truth.iloc[:, 1:].sum()[col] * .9))\n",
    "        train_size = int(np.ceil(train_val_size * .8))\n",
    "        val_size = int(train_val_size - train_size)\n",
    "\n",
    "        os.mkdir(os.path.join(\"..\", \"train\", col))\n",
    "        os.mkdir(os.path.join(\"..\", \"valid\", col))\n",
    "        os.mkdir(os.path.join(\"..\", \"test\", col))\n",
    "\n",
    "        train_file = glob.glob(col+'*')[:train_size]\n",
    "        val_file = glob.glob(col+'*')[train_size:train_val_size]\n",
    "        test_file = glob.glob(col+'*')[-test_size:]\n",
    "\n",
    "        for img in train_file:\n",
    "            shutil.move(img, os.path.join(\"..\", \"train\", col))\n",
    "        for img in val_file:\n",
    "            shutil.move(img, os.path.join(\"..\", \"valid\", col))\n",
    "        for img in test_file:\n",
    "            shutil.move(img, os.path.join(\"..\", \"test\", col))\n",
    "\n",
    "        os.chdir(\"..\")\n",
    "os.chdir(\"..\")\n"
   ]
  },
  {
   "cell_type": "code",
   "execution_count": 7,
   "metadata": {},
   "outputs": [],
   "source": [
    "TRAIN_PATH = os.path.join(IMAGES_DIR, \"train\")\n",
    "VAL_PATH = os.path.join(IMAGES_DIR, \"valid\")\n",
    "TEST_PATH = os.path.join(IMAGES_DIR, \"test\")"
   ]
  },
  {
   "cell_type": "code",
   "execution_count": 8,
   "metadata": {},
   "outputs": [
    {
     "data": {
      "text/plain": [
       "['MEL', 'NV', 'BCC', 'AKIEC', 'BKL', 'DF', 'VASC']"
      ]
     },
     "execution_count": 8,
     "metadata": {},
     "output_type": "execute_result"
    }
   ],
   "source": [
    "CLASSES = list(ground_truth.iloc[:, 1:].columns)\n",
    "CLASSES"
   ]
  },
  {
   "cell_type": "code",
   "execution_count": 9,
   "metadata": {},
   "outputs": [
    {
     "name": "stdout",
     "output_type": "stream",
     "text": [
      "Found 7212 files belonging to 7 classes.\n",
      "Found 1798 files belonging to 7 classes.\n"
     ]
    }
   ],
   "source": [
    "train_ds = image_dataset_from_directory(\n",
    "    TRAIN_PATH,\n",
    "    label_mode='categorical',\n",
    "    batch_size=25,\n",
    "    image_size=(224,224)\n",
    ")\n",
    "\n",
    "val_ds = image_dataset_from_directory(\n",
    "    VAL_PATH,\n",
    "    label_mode='categorical',\n",
    "    batch_size=25,\n",
    "    image_size=(224,224)\n",
    ")"
   ]
  },
  {
   "cell_type": "code",
   "execution_count": 10,
   "metadata": {},
   "outputs": [
    {
     "data": {
      "text/plain": [
       "['AKIEC', 'BCC', 'BKL', 'DF', 'MEL', 'NV', 'VASC']"
      ]
     },
     "execution_count": 10,
     "metadata": {},
     "output_type": "execute_result"
    }
   ],
   "source": [
    "train_ds.class_names"
   ]
  },
  {
   "cell_type": "code",
   "execution_count": 11,
   "metadata": {},
   "outputs": [
    {
     "data": {
      "text/plain": [
       "{0: 4.375273044997815,\n",
       " 1: 2.78349082823791,\n",
       " 2: 1.301832835044846,\n",
       " 3: 12.440993788819876,\n",
       " 4: 1.2854575792581184,\n",
       " 5: 0.21338020666879728,\n",
       " 6: 10.075452716297788}"
      ]
     },
     "execution_count": 11,
     "metadata": {},
     "output_type": "execute_result"
    }
   ],
   "source": [
    "total_img = len(ground_truth)\n",
    "cl_weight = {}\n",
    "for i, cl in enumerate(train_ds.class_names):\n",
    "    cl_weight[i] = total_img / (ground_truth.iloc[:, 1:].sum()[cl] * 7)\n",
    "cl_weight\n"
   ]
  },
  {
   "cell_type": "code",
   "execution_count": 12,
   "metadata": {},
   "outputs": [],
   "source": [
    "from functools import partial\n",
    "\n",
    "Conv2D3Kernel = partial(Conv2D, kernel_size=3, strides=1, padding='same', use_bias=False)\n",
    "\n",
    "class ResUnit(keras.layers.Layer):\n",
    "    def __init__(self, filters, strides=1, activation='relu', **kwargs):\n",
    "        super().__init__(**kwargs)\n",
    "        self.activation = keras.activations.get(activation)\n",
    "        self.main_layers = [\n",
    "            Conv2D3Kernel(filters, strides=strides),\n",
    "            BatchNormalization(),\n",
    "            self.activation,\n",
    "            Conv2D3Kernel(filters),\n",
    "            BatchNormalization()\n",
    "        ]\n",
    "        self.skip_layers = []\n",
    "        if strides > 1:\n",
    "            self.skip_layers = [\n",
    "                Conv2D3Kernel(filters, kernel_size=1, strides=strides),\n",
    "                BatchNormalization()\n",
    "            ]\n",
    "\n",
    "    def call(self, inputs):\n",
    "        Z = inputs\n",
    "        for layer in self.main_layers:\n",
    "            Z = layer(Z)\n",
    "        skip_Z = inputs\n",
    "        for layer in self.main_layers:\n",
    "            Z = layer(skip_Z)\n",
    "        return self.activation(Z + skip_Z)"
   ]
  },
  {
   "cell_type": "code",
   "execution_count": 13,
   "metadata": {},
   "outputs": [],
   "source": [
    "def ResBlock(inputs, filters, strides=1):\n",
    "    input_main = Conv2D3Kernel(filters, strides=strides)(inputs)\n",
    "    input_main = BatchNormalization()(input_main)\n",
    "    input_main = Activation(activation=keras.activations.relu)(input_main)\n",
    "    input_main = Conv2D3Kernel(filters)(input_main)\n",
    "    input_main = BatchNormalization()(input_main)\n",
    "\n",
    "    input_skip = inputs\n",
    "    if strides > 1:\n",
    "        input_skip = Conv2D3Kernel(filters, kernel_size=1, strides=strides)(input_skip)\n",
    "        input_skip = BatchNormalization()(input_skip)\n",
    "    return Activation(activation=keras.activations.relu)(input_main + input_skip)\n",
    "    "
   ]
  },
  {
   "cell_type": "code",
   "execution_count": 14,
   "metadata": {},
   "outputs": [],
   "source": [
    "def DoubleResBlock(inputs, filters, strides=1):\n",
    "    input_main = Conv2D3Kernel(filters, strides=strides)(inputs)\n",
    "    input_main = BatchNormalization()(input_main)\n",
    "    input_main = Activation(activation=keras.activations.relu)(input_main)\n",
    "    input_main = Conv2D3Kernel(filters)(input_main)\n",
    "    input_main = BatchNormalization()(input_main)\n",
    "\n",
    "    input_main_2 = Conv2D3Kernel(filters, strides=strides)(inputs)\n",
    "    input_main_2 = BatchNormalization()(input_main)\n",
    "    input_main_2 = Activation(activation=keras.activations.relu)(input_main)\n",
    "    input_main_2 = Conv2D3Kernel(filters)(input_main)\n",
    "    input_main_2 = BatchNormalization()(input_main)\n",
    "\n",
    "    input_skip = inputs\n",
    "    if strides > 1:\n",
    "        input_skip = Conv2D3Kernel(filters, kernel_size=1, strides=strides)(input_skip)\n",
    "        input_skip = BatchNormalization()(input_skip)\n",
    "    return Activation(activation=keras.activations.relu)(input_main + input_main_2 + input_skip)\n",
    "\n",
    "def ResNextBlock(inputs, filters, strides=1):\n",
    "    input_main = []\n",
    "    for i in range(8):\n",
    "        temp_main = Conv2D3Kernel(filters/8, strides=strides)(inputs)\n",
    "        temp_main = BatchNormalization()(temp_main)\n",
    "        temp_main = Activation(activation=keras.activations.relu)(temp_main)\n",
    "        temp_main = Conv2D3Kernel(filters)(temp_main)\n",
    "        temp_main = BatchNormalization()(temp_main)\n",
    "        input_main.append(temp_main)\n",
    "    \n",
    "    total_main = input_main[0]\n",
    "    for item in input_main[1:]:\n",
    "        total_main = total_main + item\n",
    "    \n",
    "    input_skip = inputs\n",
    "    if strides > 1:\n",
    "        input_skip = Conv2D3Kernel(filters, kernel_size=1, strides=strides)(input_skip)\n",
    "        input_skip = BatchNormalization()(input_skip)\n",
    "    return Activation(activation=keras.activations.relu)(total_main + input_skip)"
   ]
  },
  {
   "cell_type": "code",
   "execution_count": 15,
   "metadata": {},
   "outputs": [],
   "source": [
    "input_layer = keras.layers.Input(shape=(224,224,3))\n",
    "rescaling = Rescaling(1./255)(input_layer)\n",
    "conv_1 = Conv2D(filters=32, kernel_size=(7, 7), strides=2, padding=\"valid\", activation=\"relu\")(rescaling)\n",
    "conv_1 = BatchNormalization()(conv_1)\n",
    "maxpool_1 = MaxPooling2D(pool_size=3)(conv_1)\n",
    "maxpool_1 = tf.nn.local_response_normalization(maxpool_1)\n",
    "resb_1 = ResNextBlock(maxpool_1, 32, 2)\n",
    "resb_1 = ResNextBlock(resb_1, 32)\n",
    "resb_1 = ResNextBlock(resb_1, 32)\n",
    "resb_1 = ResNextBlock(resb_1, 64, 2)\n",
    "resb_1 = ResNextBlock(resb_1, 64)\n",
    "resb_1 = ResNextBlock(resb_1, 64)\n",
    "resb_1 = ResNextBlock(resb_1, 80, 2)\n",
    "resb_1 = ResNextBlock(resb_1, 80)\n",
    "resb_1 = ResNextBlock(resb_1, 96, 2)\n",
    "global_avg = GlobalAveragePooling2D()(resb_1)\n",
    "flatten = Flatten()(global_avg)\n",
    "output = Dense(7, activation=\"softmax\")(flatten)\n",
    "model = Model(inputs=[input_layer], outputs=[output])\n",
    "\n",
    "with tf.device('/GPU:0'):\n",
    "  model.compile(optimizer=keras.optimizers.Nadam(), loss=\"categorical_crossentropy\", metrics=['accuracy'])"
   ]
  },
  {
   "cell_type": "code",
   "execution_count": null,
   "metadata": {},
   "outputs": [],
   "source": [
    "model.summary()"
   ]
  },
  {
   "cell_type": "code",
   "execution_count": 16,
   "metadata": {},
   "outputs": [
    {
     "name": "stdout",
     "output_type": "stream",
     "text": [
      "Epoch 1/20\n",
      "289/289 [==============================] - 186s 419ms/step - loss: 1.9473 - accuracy: 0.3684 - val_loss: 2.6262 - val_accuracy: 0.0256\n",
      "Epoch 2/20\n",
      "289/289 [==============================] - 111s 383ms/step - loss: 1.6255 - accuracy: 0.4673 - val_loss: 1.4168 - val_accuracy: 0.6018\n",
      "Epoch 3/20\n",
      "289/289 [==============================] - 114s 392ms/step - loss: 1.5830 - accuracy: 0.4602 - val_loss: 8.9998 - val_accuracy: 0.0145\n",
      "Epoch 4/20\n",
      "289/289 [==============================] - 110s 381ms/step - loss: 1.4005 - accuracy: 0.5054 - val_loss: 1.6670 - val_accuracy: 0.2608\n",
      "Epoch 5/20\n",
      "289/289 [==============================] - 108s 373ms/step - loss: 1.2819 - accuracy: 0.5624 - val_loss: 2.7161 - val_accuracy: 0.1307\n",
      "Epoch 6/20\n",
      "289/289 [==============================] - 119s 412ms/step - loss: 1.2124 - accuracy: 0.5632 - val_loss: 1.9260 - val_accuracy: 0.1424\n",
      "Epoch 7/20\n",
      "289/289 [==============================] - 113s 390ms/step - loss: 1.1480 - accuracy: 0.5813 - val_loss: 1.5111 - val_accuracy: 0.3654\n",
      "Epoch 8/20\n",
      "289/289 [==============================] - 114s 391ms/step - loss: 1.0626 - accuracy: 0.6088 - val_loss: 2.0034 - val_accuracy: 0.2175\n",
      "Epoch 9/20\n",
      " 99/289 [=========>....................] - ETA: 1:10 - loss: 1.0960 - accuracy: 0.5774"
     ]
    },
    {
     "ename": "KeyboardInterrupt",
     "evalue": "",
     "output_type": "error",
     "traceback": [
      "\u001b[1;31m---------------------------------------------------------------------------\u001b[0m",
      "\u001b[1;31mKeyboardInterrupt\u001b[0m                         Traceback (most recent call last)",
      "Cell \u001b[1;32mIn [16], line 1\u001b[0m\n\u001b[1;32m----> 1\u001b[0m history \u001b[38;5;241m=\u001b[39m \u001b[43mmodel\u001b[49m\u001b[38;5;241;43m.\u001b[39;49m\u001b[43mfit\u001b[49m\u001b[43m(\u001b[49m\u001b[43mtrain_ds\u001b[49m\u001b[43m,\u001b[49m\u001b[43m \u001b[49m\u001b[43mvalidation_data\u001b[49m\u001b[38;5;241;43m=\u001b[39;49m\u001b[43mval_ds\u001b[49m\u001b[43m,\u001b[49m\u001b[43m \u001b[49m\u001b[43mepochs\u001b[49m\u001b[38;5;241;43m=\u001b[39;49m\u001b[38;5;241;43m20\u001b[39;49m\u001b[43m,\u001b[49m\u001b[43m \u001b[49m\u001b[43mclass_weight\u001b[49m\u001b[38;5;241;43m=\u001b[39;49m\u001b[43mcl_weight\u001b[49m\u001b[43m)\u001b[49m\n",
      "File \u001b[1;32m~\\AppData\\Local\\Programs\\Python\\Python310\\lib\\site-packages\\keras\\utils\\traceback_utils.py:65\u001b[0m, in \u001b[0;36mfilter_traceback.<locals>.error_handler\u001b[1;34m(*args, **kwargs)\u001b[0m\n\u001b[0;32m     63\u001b[0m filtered_tb \u001b[38;5;241m=\u001b[39m \u001b[38;5;28;01mNone\u001b[39;00m\n\u001b[0;32m     64\u001b[0m \u001b[38;5;28;01mtry\u001b[39;00m:\n\u001b[1;32m---> 65\u001b[0m     \u001b[38;5;28;01mreturn\u001b[39;00m fn(\u001b[38;5;241m*\u001b[39margs, \u001b[38;5;241m*\u001b[39m\u001b[38;5;241m*\u001b[39mkwargs)\n\u001b[0;32m     66\u001b[0m \u001b[38;5;28;01mexcept\u001b[39;00m \u001b[38;5;167;01mException\u001b[39;00m \u001b[38;5;28;01mas\u001b[39;00m e:\n\u001b[0;32m     67\u001b[0m     filtered_tb \u001b[38;5;241m=\u001b[39m _process_traceback_frames(e\u001b[38;5;241m.\u001b[39m__traceback__)\n",
      "File \u001b[1;32m~\\AppData\\Local\\Programs\\Python\\Python310\\lib\\site-packages\\keras\\engine\\training.py:1570\u001b[0m, in \u001b[0;36mModel.fit\u001b[1;34m(self, x, y, batch_size, epochs, verbose, callbacks, validation_split, validation_data, shuffle, class_weight, sample_weight, initial_epoch, steps_per_epoch, validation_steps, validation_batch_size, validation_freq, max_queue_size, workers, use_multiprocessing)\u001b[0m\n\u001b[0;32m   1568\u001b[0m logs \u001b[38;5;241m=\u001b[39m tmp_logs\n\u001b[0;32m   1569\u001b[0m end_step \u001b[38;5;241m=\u001b[39m step \u001b[38;5;241m+\u001b[39m data_handler\u001b[38;5;241m.\u001b[39mstep_increment\n\u001b[1;32m-> 1570\u001b[0m \u001b[43mcallbacks\u001b[49m\u001b[38;5;241;43m.\u001b[39;49m\u001b[43mon_train_batch_end\u001b[49m\u001b[43m(\u001b[49m\u001b[43mend_step\u001b[49m\u001b[43m,\u001b[49m\u001b[43m \u001b[49m\u001b[43mlogs\u001b[49m\u001b[43m)\u001b[49m\n\u001b[0;32m   1571\u001b[0m \u001b[38;5;28;01mif\u001b[39;00m \u001b[38;5;28mself\u001b[39m\u001b[38;5;241m.\u001b[39mstop_training:\n\u001b[0;32m   1572\u001b[0m     \u001b[38;5;28;01mbreak\u001b[39;00m\n",
      "File \u001b[1;32m~\\AppData\\Local\\Programs\\Python\\Python310\\lib\\site-packages\\keras\\callbacks.py:470\u001b[0m, in \u001b[0;36mCallbackList.on_train_batch_end\u001b[1;34m(self, batch, logs)\u001b[0m\n\u001b[0;32m    463\u001b[0m \u001b[38;5;124;03m\"\"\"Calls the `on_train_batch_end` methods of its callbacks.\u001b[39;00m\n\u001b[0;32m    464\u001b[0m \n\u001b[0;32m    465\u001b[0m \u001b[38;5;124;03mArgs:\u001b[39;00m\n\u001b[0;32m    466\u001b[0m \u001b[38;5;124;03m    batch: Integer, index of batch within the current epoch.\u001b[39;00m\n\u001b[0;32m    467\u001b[0m \u001b[38;5;124;03m    logs: Dict. Aggregated metric results up until this batch.\u001b[39;00m\n\u001b[0;32m    468\u001b[0m \u001b[38;5;124;03m\"\"\"\u001b[39;00m\n\u001b[0;32m    469\u001b[0m \u001b[38;5;28;01mif\u001b[39;00m \u001b[38;5;28mself\u001b[39m\u001b[38;5;241m.\u001b[39m_should_call_train_batch_hooks:\n\u001b[1;32m--> 470\u001b[0m     \u001b[38;5;28;43mself\u001b[39;49m\u001b[38;5;241;43m.\u001b[39;49m\u001b[43m_call_batch_hook\u001b[49m\u001b[43m(\u001b[49m\u001b[43mModeKeys\u001b[49m\u001b[38;5;241;43m.\u001b[39;49m\u001b[43mTRAIN\u001b[49m\u001b[43m,\u001b[49m\u001b[43m \u001b[49m\u001b[38;5;124;43m\"\u001b[39;49m\u001b[38;5;124;43mend\u001b[39;49m\u001b[38;5;124;43m\"\u001b[39;49m\u001b[43m,\u001b[49m\u001b[43m \u001b[49m\u001b[43mbatch\u001b[49m\u001b[43m,\u001b[49m\u001b[43m \u001b[49m\u001b[43mlogs\u001b[49m\u001b[38;5;241;43m=\u001b[39;49m\u001b[43mlogs\u001b[49m\u001b[43m)\u001b[49m\n",
      "File \u001b[1;32m~\\AppData\\Local\\Programs\\Python\\Python310\\lib\\site-packages\\keras\\callbacks.py:317\u001b[0m, in \u001b[0;36mCallbackList._call_batch_hook\u001b[1;34m(self, mode, hook, batch, logs)\u001b[0m\n\u001b[0;32m    315\u001b[0m     \u001b[38;5;28mself\u001b[39m\u001b[38;5;241m.\u001b[39m_call_batch_begin_hook(mode, batch, logs)\n\u001b[0;32m    316\u001b[0m \u001b[38;5;28;01melif\u001b[39;00m hook \u001b[38;5;241m==\u001b[39m \u001b[38;5;124m\"\u001b[39m\u001b[38;5;124mend\u001b[39m\u001b[38;5;124m\"\u001b[39m:\n\u001b[1;32m--> 317\u001b[0m     \u001b[38;5;28;43mself\u001b[39;49m\u001b[38;5;241;43m.\u001b[39;49m\u001b[43m_call_batch_end_hook\u001b[49m\u001b[43m(\u001b[49m\u001b[43mmode\u001b[49m\u001b[43m,\u001b[49m\u001b[43m \u001b[49m\u001b[43mbatch\u001b[49m\u001b[43m,\u001b[49m\u001b[43m \u001b[49m\u001b[43mlogs\u001b[49m\u001b[43m)\u001b[49m\n\u001b[0;32m    318\u001b[0m \u001b[38;5;28;01melse\u001b[39;00m:\n\u001b[0;32m    319\u001b[0m     \u001b[38;5;28;01mraise\u001b[39;00m \u001b[38;5;167;01mValueError\u001b[39;00m(\n\u001b[0;32m    320\u001b[0m         \u001b[38;5;124mf\u001b[39m\u001b[38;5;124m\"\u001b[39m\u001b[38;5;124mUnrecognized hook: \u001b[39m\u001b[38;5;132;01m{\u001b[39;00mhook\u001b[38;5;132;01m}\u001b[39;00m\u001b[38;5;124m. \u001b[39m\u001b[38;5;124m\"\u001b[39m\n\u001b[0;32m    321\u001b[0m         \u001b[38;5;124m'\u001b[39m\u001b[38;5;124mExpected values are [\u001b[39m\u001b[38;5;124m\"\u001b[39m\u001b[38;5;124mbegin\u001b[39m\u001b[38;5;124m\"\u001b[39m\u001b[38;5;124m, \u001b[39m\u001b[38;5;124m\"\u001b[39m\u001b[38;5;124mend\u001b[39m\u001b[38;5;124m\"\u001b[39m\u001b[38;5;124m]\u001b[39m\u001b[38;5;124m'\u001b[39m\n\u001b[0;32m    322\u001b[0m     )\n",
      "File \u001b[1;32m~\\AppData\\Local\\Programs\\Python\\Python310\\lib\\site-packages\\keras\\callbacks.py:340\u001b[0m, in \u001b[0;36mCallbackList._call_batch_end_hook\u001b[1;34m(self, mode, batch, logs)\u001b[0m\n\u001b[0;32m    337\u001b[0m     batch_time \u001b[38;5;241m=\u001b[39m time\u001b[38;5;241m.\u001b[39mtime() \u001b[38;5;241m-\u001b[39m \u001b[38;5;28mself\u001b[39m\u001b[38;5;241m.\u001b[39m_batch_start_time\n\u001b[0;32m    338\u001b[0m     \u001b[38;5;28mself\u001b[39m\u001b[38;5;241m.\u001b[39m_batch_times\u001b[38;5;241m.\u001b[39mappend(batch_time)\n\u001b[1;32m--> 340\u001b[0m \u001b[38;5;28;43mself\u001b[39;49m\u001b[38;5;241;43m.\u001b[39;49m\u001b[43m_call_batch_hook_helper\u001b[49m\u001b[43m(\u001b[49m\u001b[43mhook_name\u001b[49m\u001b[43m,\u001b[49m\u001b[43m \u001b[49m\u001b[43mbatch\u001b[49m\u001b[43m,\u001b[49m\u001b[43m \u001b[49m\u001b[43mlogs\u001b[49m\u001b[43m)\u001b[49m\n\u001b[0;32m    342\u001b[0m \u001b[38;5;28;01mif\u001b[39;00m \u001b[38;5;28mlen\u001b[39m(\u001b[38;5;28mself\u001b[39m\u001b[38;5;241m.\u001b[39m_batch_times) \u001b[38;5;241m>\u001b[39m\u001b[38;5;241m=\u001b[39m \u001b[38;5;28mself\u001b[39m\u001b[38;5;241m.\u001b[39m_num_batches_for_timing_check:\n\u001b[0;32m    343\u001b[0m     end_hook_name \u001b[38;5;241m=\u001b[39m hook_name\n",
      "File \u001b[1;32m~\\AppData\\Local\\Programs\\Python\\Python310\\lib\\site-packages\\keras\\callbacks.py:388\u001b[0m, in \u001b[0;36mCallbackList._call_batch_hook_helper\u001b[1;34m(self, hook_name, batch, logs)\u001b[0m\n\u001b[0;32m    386\u001b[0m \u001b[38;5;28;01mfor\u001b[39;00m callback \u001b[38;5;129;01min\u001b[39;00m \u001b[38;5;28mself\u001b[39m\u001b[38;5;241m.\u001b[39mcallbacks:\n\u001b[0;32m    387\u001b[0m     hook \u001b[38;5;241m=\u001b[39m \u001b[38;5;28mgetattr\u001b[39m(callback, hook_name)\n\u001b[1;32m--> 388\u001b[0m     \u001b[43mhook\u001b[49m\u001b[43m(\u001b[49m\u001b[43mbatch\u001b[49m\u001b[43m,\u001b[49m\u001b[43m \u001b[49m\u001b[43mlogs\u001b[49m\u001b[43m)\u001b[49m\n\u001b[0;32m    390\u001b[0m \u001b[38;5;28;01mif\u001b[39;00m \u001b[38;5;28mself\u001b[39m\u001b[38;5;241m.\u001b[39m_check_timing:\n\u001b[0;32m    391\u001b[0m     \u001b[38;5;28;01mif\u001b[39;00m hook_name \u001b[38;5;129;01mnot\u001b[39;00m \u001b[38;5;129;01min\u001b[39;00m \u001b[38;5;28mself\u001b[39m\u001b[38;5;241m.\u001b[39m_hook_times:\n",
      "File \u001b[1;32m~\\AppData\\Local\\Programs\\Python\\Python310\\lib\\site-packages\\keras\\callbacks.py:1081\u001b[0m, in \u001b[0;36mProgbarLogger.on_train_batch_end\u001b[1;34m(self, batch, logs)\u001b[0m\n\u001b[0;32m   1080\u001b[0m \u001b[38;5;28;01mdef\u001b[39;00m \u001b[38;5;21mon_train_batch_end\u001b[39m(\u001b[38;5;28mself\u001b[39m, batch, logs\u001b[38;5;241m=\u001b[39m\u001b[38;5;28;01mNone\u001b[39;00m):\n\u001b[1;32m-> 1081\u001b[0m     \u001b[38;5;28;43mself\u001b[39;49m\u001b[38;5;241;43m.\u001b[39;49m\u001b[43m_batch_update_progbar\u001b[49m\u001b[43m(\u001b[49m\u001b[43mbatch\u001b[49m\u001b[43m,\u001b[49m\u001b[43m \u001b[49m\u001b[43mlogs\u001b[49m\u001b[43m)\u001b[49m\n",
      "File \u001b[1;32m~\\AppData\\Local\\Programs\\Python\\Python310\\lib\\site-packages\\keras\\callbacks.py:1157\u001b[0m, in \u001b[0;36mProgbarLogger._batch_update_progbar\u001b[1;34m(self, batch, logs)\u001b[0m\n\u001b[0;32m   1153\u001b[0m     \u001b[38;5;28mself\u001b[39m\u001b[38;5;241m.\u001b[39mseen \u001b[38;5;241m+\u001b[39m\u001b[38;5;241m=\u001b[39m add_seen\n\u001b[0;32m   1155\u001b[0m \u001b[38;5;28;01mif\u001b[39;00m \u001b[38;5;28mself\u001b[39m\u001b[38;5;241m.\u001b[39mverbose \u001b[38;5;241m==\u001b[39m \u001b[38;5;241m1\u001b[39m:\n\u001b[0;32m   1156\u001b[0m     \u001b[38;5;66;03m# Only block async when verbose = 1.\u001b[39;00m\n\u001b[1;32m-> 1157\u001b[0m     logs \u001b[38;5;241m=\u001b[39m \u001b[43mtf_utils\u001b[49m\u001b[38;5;241;43m.\u001b[39;49m\u001b[43msync_to_numpy_or_python_type\u001b[49m\u001b[43m(\u001b[49m\u001b[43mlogs\u001b[49m\u001b[43m)\u001b[49m\n\u001b[0;32m   1158\u001b[0m     \u001b[38;5;28mself\u001b[39m\u001b[38;5;241m.\u001b[39mprogbar\u001b[38;5;241m.\u001b[39mupdate(\u001b[38;5;28mself\u001b[39m\u001b[38;5;241m.\u001b[39mseen, \u001b[38;5;28mlist\u001b[39m(logs\u001b[38;5;241m.\u001b[39mitems()), finalize\u001b[38;5;241m=\u001b[39m\u001b[38;5;28;01mFalse\u001b[39;00m)\n",
      "File \u001b[1;32m~\\AppData\\Local\\Programs\\Python\\Python310\\lib\\site-packages\\keras\\utils\\tf_utils.py:635\u001b[0m, in \u001b[0;36msync_to_numpy_or_python_type\u001b[1;34m(tensors)\u001b[0m\n\u001b[0;32m    632\u001b[0m         \u001b[38;5;28;01mreturn\u001b[39;00m t\n\u001b[0;32m    633\u001b[0m     \u001b[38;5;28;01mreturn\u001b[39;00m t\u001b[38;5;241m.\u001b[39mitem() \u001b[38;5;28;01mif\u001b[39;00m np\u001b[38;5;241m.\u001b[39mndim(t) \u001b[38;5;241m==\u001b[39m \u001b[38;5;241m0\u001b[39m \u001b[38;5;28;01melse\u001b[39;00m t\n\u001b[1;32m--> 635\u001b[0m \u001b[38;5;28;01mreturn\u001b[39;00m \u001b[43mtf\u001b[49m\u001b[38;5;241;43m.\u001b[39;49m\u001b[43mnest\u001b[49m\u001b[38;5;241;43m.\u001b[39;49m\u001b[43mmap_structure\u001b[49m\u001b[43m(\u001b[49m\u001b[43m_to_single_numpy_or_python_type\u001b[49m\u001b[43m,\u001b[49m\u001b[43m \u001b[49m\u001b[43mtensors\u001b[49m\u001b[43m)\u001b[49m\n",
      "File \u001b[1;32m~\\AppData\\Local\\Programs\\Python\\Python310\\lib\\site-packages\\tensorflow\\python\\util\\nest.py:917\u001b[0m, in \u001b[0;36mmap_structure\u001b[1;34m(func, *structure, **kwargs)\u001b[0m\n\u001b[0;32m    913\u001b[0m flat_structure \u001b[38;5;241m=\u001b[39m (flatten(s, expand_composites) \u001b[38;5;28;01mfor\u001b[39;00m s \u001b[38;5;129;01min\u001b[39;00m structure)\n\u001b[0;32m    914\u001b[0m entries \u001b[38;5;241m=\u001b[39m \u001b[38;5;28mzip\u001b[39m(\u001b[38;5;241m*\u001b[39mflat_structure)\n\u001b[0;32m    916\u001b[0m \u001b[38;5;28;01mreturn\u001b[39;00m pack_sequence_as(\n\u001b[1;32m--> 917\u001b[0m     structure[\u001b[38;5;241m0\u001b[39m], [func(\u001b[38;5;241m*\u001b[39mx) \u001b[38;5;28;01mfor\u001b[39;00m x \u001b[38;5;129;01min\u001b[39;00m entries],\n\u001b[0;32m    918\u001b[0m     expand_composites\u001b[38;5;241m=\u001b[39mexpand_composites)\n",
      "File \u001b[1;32m~\\AppData\\Local\\Programs\\Python\\Python310\\lib\\site-packages\\tensorflow\\python\\util\\nest.py:917\u001b[0m, in \u001b[0;36m<listcomp>\u001b[1;34m(.0)\u001b[0m\n\u001b[0;32m    913\u001b[0m flat_structure \u001b[38;5;241m=\u001b[39m (flatten(s, expand_composites) \u001b[38;5;28;01mfor\u001b[39;00m s \u001b[38;5;129;01min\u001b[39;00m structure)\n\u001b[0;32m    914\u001b[0m entries \u001b[38;5;241m=\u001b[39m \u001b[38;5;28mzip\u001b[39m(\u001b[38;5;241m*\u001b[39mflat_structure)\n\u001b[0;32m    916\u001b[0m \u001b[38;5;28;01mreturn\u001b[39;00m pack_sequence_as(\n\u001b[1;32m--> 917\u001b[0m     structure[\u001b[38;5;241m0\u001b[39m], [\u001b[43mfunc\u001b[49m\u001b[43m(\u001b[49m\u001b[38;5;241;43m*\u001b[39;49m\u001b[43mx\u001b[49m\u001b[43m)\u001b[49m \u001b[38;5;28;01mfor\u001b[39;00m x \u001b[38;5;129;01min\u001b[39;00m entries],\n\u001b[0;32m    918\u001b[0m     expand_composites\u001b[38;5;241m=\u001b[39mexpand_composites)\n",
      "File \u001b[1;32m~\\AppData\\Local\\Programs\\Python\\Python310\\lib\\site-packages\\keras\\utils\\tf_utils.py:628\u001b[0m, in \u001b[0;36msync_to_numpy_or_python_type.<locals>._to_single_numpy_or_python_type\u001b[1;34m(t)\u001b[0m\n\u001b[0;32m    625\u001b[0m \u001b[38;5;28;01mdef\u001b[39;00m \u001b[38;5;21m_to_single_numpy_or_python_type\u001b[39m(t):\n\u001b[0;32m    626\u001b[0m     \u001b[38;5;66;03m# Don't turn ragged or sparse tensors to NumPy.\u001b[39;00m\n\u001b[0;32m    627\u001b[0m     \u001b[38;5;28;01mif\u001b[39;00m \u001b[38;5;28misinstance\u001b[39m(t, tf\u001b[38;5;241m.\u001b[39mTensor):\n\u001b[1;32m--> 628\u001b[0m         t \u001b[38;5;241m=\u001b[39m \u001b[43mt\u001b[49m\u001b[38;5;241;43m.\u001b[39;49m\u001b[43mnumpy\u001b[49m\u001b[43m(\u001b[49m\u001b[43m)\u001b[49m\n\u001b[0;32m    629\u001b[0m     \u001b[38;5;66;03m# Strings, ragged and sparse tensors don't have .item(). Return them\u001b[39;00m\n\u001b[0;32m    630\u001b[0m     \u001b[38;5;66;03m# as-is.\u001b[39;00m\n\u001b[0;32m    631\u001b[0m     \u001b[38;5;28;01mif\u001b[39;00m \u001b[38;5;129;01mnot\u001b[39;00m \u001b[38;5;28misinstance\u001b[39m(t, (np\u001b[38;5;241m.\u001b[39mndarray, np\u001b[38;5;241m.\u001b[39mgeneric)):\n",
      "File \u001b[1;32m~\\AppData\\Local\\Programs\\Python\\Python310\\lib\\site-packages\\tensorflow\\python\\framework\\ops.py:1157\u001b[0m, in \u001b[0;36m_EagerTensorBase.numpy\u001b[1;34m(self)\u001b[0m\n\u001b[0;32m   1134\u001b[0m \u001b[38;5;124;03m\"\"\"Copy of the contents of this Tensor into a NumPy array or scalar.\u001b[39;00m\n\u001b[0;32m   1135\u001b[0m \n\u001b[0;32m   1136\u001b[0m \u001b[38;5;124;03mUnlike NumPy arrays, Tensors are immutable, so this method has to copy\u001b[39;00m\n\u001b[1;32m   (...)\u001b[0m\n\u001b[0;32m   1154\u001b[0m \u001b[38;5;124;03m    NumPy dtype.\u001b[39;00m\n\u001b[0;32m   1155\u001b[0m \u001b[38;5;124;03m\"\"\"\u001b[39;00m\n\u001b[0;32m   1156\u001b[0m \u001b[38;5;66;03m# TODO(slebedev): Consider avoiding a copy for non-CPU or remote tensors.\u001b[39;00m\n\u001b[1;32m-> 1157\u001b[0m maybe_arr \u001b[38;5;241m=\u001b[39m \u001b[38;5;28;43mself\u001b[39;49m\u001b[38;5;241;43m.\u001b[39;49m\u001b[43m_numpy\u001b[49m\u001b[43m(\u001b[49m\u001b[43m)\u001b[49m  \u001b[38;5;66;03m# pylint: disable=protected-access\u001b[39;00m\n\u001b[0;32m   1158\u001b[0m \u001b[38;5;28;01mreturn\u001b[39;00m maybe_arr\u001b[38;5;241m.\u001b[39mcopy() \u001b[38;5;28;01mif\u001b[39;00m \u001b[38;5;28misinstance\u001b[39m(maybe_arr, np\u001b[38;5;241m.\u001b[39mndarray) \u001b[38;5;28;01melse\u001b[39;00m maybe_arr\n",
      "File \u001b[1;32m~\\AppData\\Local\\Programs\\Python\\Python310\\lib\\site-packages\\tensorflow\\python\\framework\\ops.py:1123\u001b[0m, in \u001b[0;36m_EagerTensorBase._numpy\u001b[1;34m(self)\u001b[0m\n\u001b[0;32m   1121\u001b[0m \u001b[38;5;28;01mdef\u001b[39;00m \u001b[38;5;21m_numpy\u001b[39m(\u001b[38;5;28mself\u001b[39m):\n\u001b[0;32m   1122\u001b[0m   \u001b[38;5;28;01mtry\u001b[39;00m:\n\u001b[1;32m-> 1123\u001b[0m     \u001b[38;5;28;01mreturn\u001b[39;00m \u001b[38;5;28;43mself\u001b[39;49m\u001b[38;5;241;43m.\u001b[39;49m\u001b[43m_numpy_internal\u001b[49m\u001b[43m(\u001b[49m\u001b[43m)\u001b[49m\n\u001b[0;32m   1124\u001b[0m   \u001b[38;5;28;01mexcept\u001b[39;00m core\u001b[38;5;241m.\u001b[39m_NotOkStatusException \u001b[38;5;28;01mas\u001b[39;00m e:  \u001b[38;5;66;03m# pylint: disable=protected-access\u001b[39;00m\n\u001b[0;32m   1125\u001b[0m     \u001b[38;5;28;01mraise\u001b[39;00m core\u001b[38;5;241m.\u001b[39m_status_to_exception(e) \u001b[38;5;28;01mfrom\u001b[39;00m \u001b[38;5;28mNone\u001b[39m\n",
      "\u001b[1;31mKeyboardInterrupt\u001b[0m: "
     ]
    }
   ],
   "source": [
    "history = model.fit(train_ds, validation_data=val_ds, epochs=20, class_weight=cl_weight)"
   ]
  },
  {
   "cell_type": "code",
   "execution_count": null,
   "metadata": {},
   "outputs": [
    {
     "name": "stdout",
     "output_type": "stream",
     "text": [
      "Epoch 1/2\n",
      "271/271 [==============================] - 127s 468ms/step - loss: 0.2099 - accuracy: 0.8203 - val_loss: 1.3293 - val_accuracy: 0.5607\n",
      "Epoch 2/2\n",
      "271/271 [==============================] - 127s 468ms/step - loss: 0.4413 - accuracy: 0.7602 - val_loss: 1.5319 - val_accuracy: 0.5416\n"
     ]
    }
   ],
   "source": [
    "history2 = model.fit(train_ds, validation_data=val_ds, epochs=2, class_weight=cl_weight)"
   ]
  },
  {
   "cell_type": "code",
   "execution_count": null,
   "metadata": {},
   "outputs": [
    {
     "name": "stdout",
     "output_type": "stream",
     "text": [
      "Epoch 1/2\n",
      "271/271 [==============================] - 127s 466ms/step - loss: 0.2569 - accuracy: 0.8074 - val_loss: 1.3402 - val_accuracy: 0.6003\n",
      "Epoch 2/2\n",
      "271/271 [==============================] - 128s 470ms/step - loss: 0.1451 - accuracy: 0.8611 - val_loss: 1.3206 - val_accuracy: 0.5954\n"
     ]
    }
   ],
   "source": [
    "history3 = model.fit(train_ds, validation_data=val_ds, epochs=2, class_weight=cl_weight)"
   ]
  },
  {
   "cell_type": "code",
   "execution_count": null,
   "metadata": {},
   "outputs": [
    {
     "name": "stdout",
     "output_type": "stream",
     "text": [
      "Epoch 1/6\n",
      "271/271 [==============================] - 129s 475ms/step - loss: 0.2693 - accuracy: 0.8216 - val_loss: 1.6458 - val_accuracy: 0.5825\n",
      "Epoch 2/6\n",
      "271/271 [==============================] - 130s 477ms/step - loss: 0.2644 - accuracy: 0.8092 - val_loss: 1.2413 - val_accuracy: 0.5803\n",
      "Epoch 3/6\n",
      "271/271 [==============================] - 131s 480ms/step - loss: 0.1628 - accuracy: 0.8605 - val_loss: 1.3427 - val_accuracy: 0.6216\n",
      "Epoch 4/6\n",
      "271/271 [==============================] - 130s 479ms/step - loss: 0.1137 - accuracy: 0.8923 - val_loss: 1.4260 - val_accuracy: 0.6105\n",
      "Epoch 5/6\n",
      "271/271 [==============================] - 129s 473ms/step - loss: 0.0805 - accuracy: 0.9152 - val_loss: 1.6539 - val_accuracy: 0.6092\n",
      "Epoch 6/6\n",
      "271/271 [==============================] - 125s 461ms/step - loss: 0.1497 - accuracy: 0.8866 - val_loss: 1.5558 - val_accuracy: 0.5896\n"
     ]
    }
   ],
   "source": [
    "history4 = model.fit(train_ds, validation_data=val_ds, epochs=6, class_weight=cl_weight)"
   ]
  },
  {
   "cell_type": "code",
   "execution_count": null,
   "metadata": {},
   "outputs": [
    {
     "data": {
      "image/png": "[encoded data removed]",
      "text/plain": [
       "<Figure size 1008x288 with 2 Axes>"
      ]
     },
     "metadata": {
      "needs_background": "light"
     },
     "output_type": "display_data"
    }
   ],
   "source": [
    "import matplotlib.pyplot as plt\n",
    "\n",
    "fig, axes = plt.subplots(nrows=1, ncols=2)\n",
    "fig.set_size_inches(14, 4)\n",
    "pd.DataFrame(history.history)[[\"loss\", 'val_loss']].plot(ax=axes[0])\n",
    "axes[0].set_title(\"Learning Curve\")\n",
    "axes[0].set_xlabel(\"Epoch\")\n",
    "axes[0].grid(True)\n",
    "axes[0].set_ylim([0,3])\n",
    "\n",
    "pd.DataFrame(history.history)[[\"accuracy\", 'val_accuracy']].plot(ax=axes[1])\n",
    "axes[1].set_title(\"Accuracy\")\n",
    "axes[1].set_xlabel(\"Epoch\")\n",
    "axes[1].grid(True)\n",
    "axes[1].set_ylim([0, 1])\n",
    "\n",
    "plt.show()"
   ]
  },
  {
   "cell_type": "code",
   "execution_count": null,
   "metadata": {},
   "outputs": [
    {
     "data": {
      "text/plain": [
       "(0.0, 1.0)"
      ]
     },
     "execution_count": 77,
     "metadata": {},
     "output_type": "execute_result"
    },
    {
     "data": {
      "image/png": "[encoded data removed]",
      "text/plain": [
       "<Figure size 1008x288 with 2 Axes>"
      ]
     },
     "metadata": {
      "needs_background": "light"
     },
     "output_type": "display_data"
    }
   ],
   "source": [
    "h1 = pd.DataFrame(history.history)\n",
    "h2 = pd.DataFrame(history2.history, index=[20, 21])\n",
    "h3 = pd.DataFrame(history3.history, index=[22, 23])\n",
    "h4 = pd.DataFrame(history4.history, index=[24, 25,26,27,28,29])\n",
    "\n",
    "fig, axes = plt.subplots(nrows=1, ncols=2)\n",
    "fig.set_size_inches(14, 4)\n",
    "pd.concat([h1,h2,h3, h4])[[\"loss\", 'val_loss']].plot(ax=axes[0])\n",
    "axes[0].set_title(\"Learning Curve\")\n",
    "axes[0].set_xlabel(\"Epoch\")\n",
    "axes[0].grid(True)\n",
    "axes[0].set_ylim([0,3])\n",
    "\n",
    "pd.concat([h1,h2,h3, h4])[[\"accuracy\", 'val_accuracy']].plot(ax=axes[1])\n",
    "axes[1].set_title(\"Accuracy\")\n",
    "axes[1].set_xlabel(\"Epoch\")\n",
    "axes[1].grid(True)\n",
    "axes[1].set_ylim([0, 1])"
   ]
  },
  {
   "cell_type": "code",
   "execution_count": null,
   "metadata": {},
   "outputs": [
    {
     "data": {
      "text/html": [
       "<div>\n",
       "<style scoped>\n",
       "    .dataframe tbody tr th:only-of-type {\n",
       "        vertical-align: middle;\n",
       "    }\n",
       "\n",
       "    .dataframe tbody tr th {\n",
       "        vertical-align: top;\n",
       "    }\n",
       "\n",
       "    .dataframe thead th {\n",
       "        text-align: right;\n",
       "    }\n",
       "</style>\n",
       "<table border=\"1\" class=\"dataframe\">\n",
       "  <thead>\n",
       "    <tr style=\"text-align: right;\">\n",
       "      <th></th>\n",
       "      <th>loss</th>\n",
       "      <th>accuracy</th>\n",
       "      <th>val_loss</th>\n",
       "      <th>val_accuracy</th>\n",
       "    </tr>\n",
       "  </thead>\n",
       "  <tbody>\n",
       "    <tr>\n",
       "      <th>19</th>\n",
       "      <td>0.256554</td>\n",
       "      <td>0.797811</td>\n",
       "      <td>1.388403</td>\n",
       "      <td>0.530458</td>\n",
       "    </tr>\n",
       "    <tr>\n",
       "      <th>20</th>\n",
       "      <td>0.209908</td>\n",
       "      <td>0.820293</td>\n",
       "      <td>1.329341</td>\n",
       "      <td>0.560694</td>\n",
       "    </tr>\n",
       "    <tr>\n",
       "      <th>21</th>\n",
       "      <td>0.441261</td>\n",
       "      <td>0.760243</td>\n",
       "      <td>1.531931</td>\n",
       "      <td>0.541574</td>\n",
       "    </tr>\n",
       "    <tr>\n",
       "      <th>22</th>\n",
       "      <td>0.256901</td>\n",
       "      <td>0.807425</td>\n",
       "      <td>1.340227</td>\n",
       "      <td>0.600267</td>\n",
       "    </tr>\n",
       "    <tr>\n",
       "      <th>23</th>\n",
       "      <td>0.145071</td>\n",
       "      <td>0.861115</td>\n",
       "      <td>1.320583</td>\n",
       "      <td>0.595376</td>\n",
       "    </tr>\n",
       "  </tbody>\n",
       "</table>\n",
       "</div>"
      ],
      "text/plain": [
       "        loss  accuracy  val_loss  val_accuracy\n",
       "19  0.256554  0.797811  1.388403      0.530458\n",
       "20  0.209908  0.820293  1.329341      0.560694\n",
       "21  0.441261  0.760243  1.531931      0.541574\n",
       "22  0.256901  0.807425  1.340227      0.600267\n",
       "23  0.145071  0.861115  1.320583      0.595376"
      ]
     },
     "execution_count": 41,
     "metadata": {},
     "output_type": "execute_result"
    }
   ],
   "source": [
    "pd.concat([h1,h2,h3]).tail()"
   ]
  },
  {
   "cell_type": "code",
   "execution_count": null,
   "metadata": {},
   "outputs": [],
   "source": [
    "#model.save(\"skin_cancer_res_V1.h5\")"
   ]
  },
  {
   "cell_type": "code",
   "execution_count": null,
   "metadata": {},
   "outputs": [
    {
     "name": "stdout",
     "output_type": "stream",
     "text": [
      "Found 1005 files belonging to 7 classes.\n"
     ]
    }
   ],
   "source": [
    "test_ds = image_dataset_from_directory(\n",
    "    TEST_PATH,\n",
    "    label_mode='categorical',\n",
    "    batch_size=25,\n",
    "    image_size=(224,224),\n",
    "    shuffle=False\n",
    ")"
   ]
  },
  {
   "cell_type": "code",
   "execution_count": null,
   "metadata": {},
   "outputs": [
    {
     "name": "stdout",
     "output_type": "stream",
     "text": [
      "41/41 [==============================] - 6s 135ms/step\n"
     ]
    },
    {
     "data": {
      "text/plain": [
       "array([[3.3404012e-03, 1.2738328e-02, 5.4849255e-01, ..., 8.2430011e-03,\n",
       "        3.7040359e-01, 3.0302783e-04],\n",
       "       [3.3193800e-01, 5.3703034e-01, 2.0127714e-02, ..., 1.1348994e-02,\n",
       "        9.6735276e-02, 8.1611041e-05],\n",
       "       [7.8388155e-01, 2.1064255e-01, 1.4430766e-03, ..., 1.5302245e-06,\n",
       "        4.0214919e-03, 5.0246290e-06],\n",
       "       ...,\n",
       "       [1.4635270e-09, 6.2357763e-08, 1.5566444e-06, ..., 5.5807362e-07,\n",
       "        2.2421314e-05, 9.9997532e-01],\n",
       "       [1.1810919e-07, 2.7998828e-09, 6.0619706e-01, ..., 2.6623608e-04,\n",
       "        6.9652246e-03, 3.8657135e-01],\n",
       "       [9.0033486e-03, 1.1469179e-02, 7.9500582e-04, ..., 3.6996880e-03,\n",
       "        3.1316725e-03, 2.6247252e-04]], dtype=float32)"
      ]
     },
     "execution_count": 42,
     "metadata": {},
     "output_type": "execute_result"
    }
   ],
   "source": [
    "pred = model.predict(test_ds)\n",
    "pred"
   ]
  },
  {
   "cell_type": "code",
   "execution_count": null,
   "metadata": {},
   "outputs": [],
   "source": [
    "y_true = []\n",
    "for X, y in test_ds:\n",
    "    for d in y:\n",
    "        y_true.append(d.numpy())\n",
    "y_true = np.array(y_true)"
   ]
  },
  {
   "cell_type": "code",
   "execution_count": null,
   "metadata": {},
   "outputs": [],
   "source": [
    "y_true_a = np.argmax(y_true, axis=1)\n",
    "y_pred_a = np.argmax(pred, axis=1)"
   ]
  },
  {
   "cell_type": "code",
   "execution_count": null,
   "metadata": {},
   "outputs": [
    {
     "data": {
      "text/plain": [
       "array([2, 1, 0, ..., 6, 2, 3], dtype=int64)"
      ]
     },
     "execution_count": 45,
     "metadata": {},
     "output_type": "execute_result"
    }
   ],
   "source": [
    "y_pred_a"
   ]
  },
  {
   "cell_type": "code",
   "execution_count": null,
   "metadata": {},
   "outputs": [
    {
     "data": {
      "text/plain": [
       "[]"
      ]
     },
     "execution_count": 75,
     "metadata": {},
     "output_type": "execute_result"
    },
    {
     "data": {
      "image/png": "[encoded data removed]",
      "text/plain": [
       "<Figure size 792x324 with 4 Axes>"
      ]
     },
     "metadata": {
      "needs_background": "light"
     },
     "output_type": "display_data"
    }
   ],
   "source": [
    "from sklearn.metrics import confusion_matrix, ConfusionMatrixDisplay\n",
    "\n",
    "cf = confusion_matrix(y_true_a, y_pred_a)\n",
    "ideal = confusion_matrix(y_true_a, y_true_a)\n",
    "\n",
    "fig, axes = plt.subplots(nrows=1, ncols=2)\n",
    "fig.set_size_inches(11, 4.5)\n",
    "ConfusionMatrixDisplay(ideal, display_labels=train_ds.class_names).plot(cmap=\"YlGnBu\", ax=axes[0])\n",
    "axes[0].set_title(\"Ideal\")\n",
    "ConfusionMatrixDisplay(cf, display_labels=train_ds.class_names).plot(cmap=\"YlGnBu\", ax=axes[1])\n",
    "axes[1].set_title(\"Real\")\n",
    "plt.plot()"
   ]
  },
  {
   "cell_type": "code",
   "execution_count": null,
   "metadata": {},
   "outputs": [
    {
     "name": "stdout",
     "output_type": "stream",
     "text": [
      "0.3990049751243781\n"
     ]
    },
    {
     "data": {
      "text/plain": [
       "0.44796321789995697"
      ]
     },
     "execution_count": 47,
     "metadata": {},
     "output_type": "execute_result"
    }
   ],
   "source": [
    "from sklearn.metrics import f1_score, accuracy_score\n",
    "\n",
    "print(accuracy_score(y_true_a, y_pred_a))\n",
    "f1_score(y_true_a, y_pred_a, average=\"weighted\")"
   ]
  },
  {
   "cell_type": "code",
   "execution_count": null,
   "metadata": {},
   "outputs": [],
   "source": []
  }
 ],
 "metadata": {
  "kernelspec": {
   "display_name": "Python 3 (ipykernel)",
   "language": "python",
   "name": "python3"
  },
  "language_info": {
   "codemirror_mode": {
    "name": "ipython",
    "version": 3
   },
   "file_extension": ".py",
   "mimetype": "text/x-python",
   "name": "python",
   "nbconvert_exporter": "python",
   "pygments_lexer": "ipython3",
   "version": "3.10.7"
  },
  "vscode": {
   "interpreter": {
    "hash": "3196968d684371006099b3d55edeef8ed90365227a30deaef86e5d4aa8519be0"
   }
  }
 },
 "nbformat": 4,
 "nbformat_minor": 4
}
